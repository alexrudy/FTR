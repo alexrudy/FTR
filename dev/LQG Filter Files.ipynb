{
 "cells": [
  {
   "cell_type": "code",
   "execution_count": 1,
   "metadata": {
    "collapsed": false
   },
   "outputs": [],
   "source": [
    "import os\n",
    "from astropy.io import fits\n",
    "from FTR.lqg import LQGFilter"
   ]
  },
  {
   "cell_type": "code",
   "execution_count": 2,
   "metadata": {
    "collapsed": false
   },
   "outputs": [],
   "source": [
    "def load_complex_pair(root):\n",
    "    base, extension = os.path.splitext(root)\n",
    "    real = fits.getdata(\"{base:s}_real{ext:s}\".format(base=base, ext=extension))\n",
    "    imag = fits.getdata(\"{base:s}_imag{ext:s}\".format(base=base, ext=extension))\n",
    "    return real + 1j * imag"
   ]
  },
  {
   "cell_type": "code",
   "execution_count": 3,
   "metadata": {
    "collapsed": true
   },
   "outputs": [],
   "source": [
    "base = os.path.join(\"lqg_filter_files\",\"pkf_n128_rate1_angle90_velocity0.50_kal\")\n",
    "gains = load_complex_pair(base + \"_layerint_gains.fits\")\n",
    "alphas = load_complex_pair(base + \"_layerint_alphas.fits\")\n",
    "hp_coeff = load_complex_pair(base + \"_highpass_coeffs.fits\")"
   ]
  },
  {
   "cell_type": "code",
   "execution_count": 4,
   "metadata": {
    "collapsed": false
   },
   "outputs": [],
   "source": [
    "f = LQGFilter(gains, alphas, hp_coeff)"
   ]
  },
  {
   "cell_type": "code",
   "execution_count": 5,
   "metadata": {
    "collapsed": false
   },
   "outputs": [],
   "source": [
    "f.write(\"pkf_n128_angle90_velocity0.50.hdf5\")"
   ]
  },
  {
   "cell_type": "code",
   "execution_count": 6,
   "metadata": {
    "collapsed": false
   },
   "outputs": [
    {
     "name": "stdout",
     "output_type": "stream",
     "text": [
      "pkf_n128_angle90_velocity0.50.hdf5\n",
      "HDF5 \"pkf_n128_angle90_velocity0.50.hdf5\" {\n",
      "FILE_CONTENTS {\n",
      " group      /\n",
      " group      /LQG Filter\n",
      " dataset    /LQG Filter/alphas\n",
      " dataset    /LQG Filter/gains\n",
      " dataset    /LQG Filter/highpass_coefficients\n",
      " }\n",
      "}\n"
     ]
    }
   ],
   "source": [
    "!ls *.hdf5\n",
    "!h5dump -n *.hdf5"
   ]
  },
  {
   "cell_type": "code",
   "execution_count": 7,
   "metadata": {
    "collapsed": false
   },
   "outputs": [],
   "source": [
    "f.write(\"pkf_n128_angle90_velocity0.50.fits\")"
   ]
  },
  {
   "cell_type": "code",
   "execution_count": 8,
   "metadata": {
    "collapsed": false
   },
   "outputs": [
    {
     "name": "stdout",
     "output_type": "stream",
     "text": [
      "Filename: pkf_n128_angle90_velocity0.50.fits\r\n",
      "No.    Name         Type      Cards   Dimensions   Format\r\n",
      "  0  GAINS       PrimaryHDU      17   (128, 128, 2, 2)   float64   \r\n",
      "  1  ALPHAS      ImageHDU        14   (128, 128, 2, 2)   float64   \r\n",
      "  2  HPCOEFFS    ImageHDU        13   (128, 128, 2)   float64   \r\n"
     ]
    }
   ],
   "source": [
    "!fitsinfo *.fits"
   ]
  },
  {
   "cell_type": "code",
   "execution_count": null,
   "metadata": {
    "collapsed": true
   },
   "outputs": [],
   "source": []
  }
 ],
 "metadata": {
  "kernelspec": {
   "display_name": "Python 2",
   "language": "python",
   "name": "python2"
  },
  "language_info": {
   "codemirror_mode": {
    "name": "ipython",
    "version": 2
   },
   "file_extension": ".py",
   "mimetype": "text/x-python",
   "name": "python",
   "nbconvert_exporter": "python",
   "pygments_lexer": "ipython2",
   "version": "2.7.13"
  }
 },
 "nbformat": 4,
 "nbformat_minor": 0
}
