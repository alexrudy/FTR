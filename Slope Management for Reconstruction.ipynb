{
 "cells": [
  {
   "cell_type": "markdown",
   "metadata": {},
   "source": [
    "# Slope Management\n",
    "\n",
    "Slope management is a technique to deal with an oddity between the fourier transform reconstructor and real telescope systesm. Simply, slope management provides slopes to the fourier transform which are compatible with the fourier transform assumption that all things which are fourier transformed are fully periodic."
   ]
  },
  {
   "cell_type": "markdown",
   "metadata": {},
   "source": [
    "## System Setup"
   ]
  },
  {
   "cell_type": "code",
   "execution_count": 1,
   "metadata": {
    "collapsed": true
   },
   "outputs": [],
   "source": [
    "import numpy as np\n",
    "%matplotlib inline\n",
    "import matplotlib.pyplot as plt"
   ]
  },
  {
   "cell_type": "code",
   "execution_count": 2,
   "metadata": {
    "collapsed": false
   },
   "outputs": [
    {
     "name": "stderr",
     "output_type": "stream",
     "text": [
      "/Users/alexrudy/.virtualenvs/FTR/lib/python2.7/site-packages/IPython/kernel/__init__.py:13: ShimWarning: The `IPython.kernel` package has been deprecated. You should import from ipykernel or jupyter_client instead.\n",
      "  \"You should import from ipykernel or jupyter_client instead.\", ShimWarning)\n"
     ]
    }
   ],
   "source": [
    "from FTR.utils import circle_aperture, remove_piston, remove_tiptilt"
   ]
  },
  {
   "cell_type": "code",
   "execution_count": 3,
   "metadata": {
    "collapsed": false
   },
   "outputs": [
    {
     "data": {
      "text/plain": [
       "<matplotlib.text.Text at 0x104fa5110>"
      ]
     },
     "execution_count": 3,
     "metadata": {},
     "output_type": "execute_result"
    },
    {
     "data": {
      "image/png": "[encoded data removed]",
      "text/plain": [
       "<matplotlib.figure.Figure at 0x104f30510>"
      ]
     },
     "metadata": {},
     "output_type": "display_data"
    }
   ],
   "source": [
    "shape = (20, 20)\n",
    "r = 8\n",
    "ap = circle_aperture(shape, r)\n",
    "plt.imshow(ap, cmap='binary_r')\n",
    "plt.title(\"Aperture Mask\")"
   ]
  },
  {
   "cell_type": "code",
   "execution_count": 4,
   "metadata": {
    "collapsed": true
   },
   "outputs": [],
   "source": [
    "def remove_ttp(data):\n",
    "    pr, p = remove_piston(ap, data)\n",
    "    tr, tx, ty = remove_tiptilt(ap, pr)\n",
    "    return tr"
   ]
  },
  {
   "cell_type": "markdown",
   "metadata": {},
   "source": [
    "# Initial Slopes\n",
    "\n",
    "We'll reconstruct focus, because its simple x and y slopes"
   ]
  },
  {
   "cell_type": "code",
   "execution_count": 5,
   "metadata": {
    "collapsed": false
   },
   "outputs": [
    {
     "data": {
      "text/plain": [
       "<matplotlib.colorbar.Colorbar instance at 0x1052d5050>"
      ]
     },
     "execution_count": 5,
     "metadata": {},
     "output_type": "execute_result"
    },
    {
     "data": {
      "image/png": "[encoded data removed]",
      "text/plain": [
       "<matplotlib.figure.Figure at 0x104f22f50>"
      ]
     },
     "metadata": {},
     "output_type": "display_data"
    }
   ],
   "source": [
    "xs = -np.linspace(-2,2,20)[None,:] ** 2 * np.ones((20,1)) + 2 \n",
    "ys = -np.linspace(-2,2,20)[:,None] ** 2 * np.ones((1,20)) + 2\n",
    "f, (ax_x, ax_y) = plt.subplots(1, 2)\n",
    "im = ax_x.imshow(xs * ap, cmap='hot')\n",
    "f.colorbar(im, ax=ax_x)\n",
    "im = ax_y.imshow(ys * ap, cmap='hot')\n",
    "f.colorbar(im, ax=ax_y)"
   ]
  },
  {
   "cell_type": "markdown",
   "metadata": {},
   "source": [
    "# Fourier Reconstruction\n",
    "\n",
    "The naieve Fourier Reconstruction on the unapertured, fully-periodic grid, works just fine"
   ]
  },
  {
   "cell_type": "code",
   "execution_count": 6,
   "metadata": {
    "collapsed": true
   },
   "outputs": [],
   "source": [
    "from FTR import FourierTransformReconstructor as FTRecon"
   ]
  },
  {
   "cell_type": "code",
   "execution_count": 7,
   "metadata": {
    "collapsed": true
   },
   "outputs": [],
   "source": [
    "recon = FTRecon(ap, filter='mod_hud', suppress_tt=True)"
   ]
  },
  {
   "cell_type": "code",
   "execution_count": 8,
   "metadata": {
    "collapsed": false
   },
   "outputs": [
    {
     "data": {
      "text/plain": [
       "<FourierTransformReconstructor (20x20) filter='mod_hud' tt='suppressed'>"
      ]
     },
     "execution_count": 8,
     "metadata": {},
     "output_type": "execute_result"
    },
    {
     "data": {
      "image/png": "[encoded data removed]",
      "text/plain": [
       "<matplotlib.figure.Figure at 0x104f22f10>"
      ]
     },
     "metadata": {},
     "output_type": "display_data"
    }
   ],
   "source": [
    "phi = recon(xs, ys)\n",
    "plt.imshow(remove_ttp(phi) * ap, cmap='hot')\n",
    "plt.title(r\"$\\hat{\\phi}$\")\n",
    "plt.colorbar()\n",
    "recon"
   ]
  },
  {
   "cell_type": "markdown",
   "metadata": {},
   "source": [
    "## Apertured Reconstruction\n",
    "\n",
    "However, if we aperture the slopes before reconstruction, we get a significantly worse reconstruction, due to the zeros present outside the aperture."
   ]
  },
  {
   "cell_type": "code",
   "execution_count": 9,
   "metadata": {
    "collapsed": false
   },
   "outputs": [
    {
     "data": {
      "text/plain": [
       "<FourierTransformReconstructor (20x20) filter='mod_hud' tt='suppressed'>"
      ]
     },
     "execution_count": 9,
     "metadata": {},
     "output_type": "execute_result"
    },
    {
     "data": {
      "image/png": "[encoded data removed]",
      "text/plain": [
       "<matplotlib.figure.Figure at 0x105511dd0>"
      ]
     },
     "metadata": {},
     "output_type": "display_data"
    }
   ],
   "source": [
    "phi_ap = recon(xs * ap, ys * ap)\n",
    "f, (ax_p, ax_r) = plt.subplots(1, 2)\n",
    "im = ax_p.imshow(remove_ttp(phi_ap) * ap, cmap='hot')\n",
    "ax_p.set_title(r\"$\\hat{\\phi_{\\textrm{ap}}}$\")\n",
    "f.colorbar(im, ax=ax_p)\n",
    "im = ax_r.imshow(remove_tiptilt(ap, remove_piston(ap, phi_ap - phi)[0])[0] * ap, cmap='hot')\n",
    "ax_r.set_title(r\"$\\hat{\\phi_{\\textrm{ap}}} - \\hat{\\phi}$\")\n",
    "f.colorbar(im, ax=ax_r)\n",
    "recon"
   ]
  },
  {
   "cell_type": "markdown",
   "metadata": {},
   "source": [
    "## Slope Management\n",
    "\n",
    "Slope management avoids the non-periodic nature of apertured slopes by using the points outside the aperture to create fake slopes which obey the peridoicity relation."
   ]
  },
  {
   "cell_type": "code",
   "execution_count": 10,
   "metadata": {
    "collapsed": true
   },
   "outputs": [],
   "source": [
    "from FTR.slopemanage import slope_management, SlopeManagedFTR"
   ]
  },
  {
   "cell_type": "code",
   "execution_count": 11,
   "metadata": {
    "collapsed": false
   },
   "outputs": [
    {
     "data": {
      "text/plain": [
       "<matplotlib.image.AxesImage at 0x10544f850>"
      ]
     },
     "execution_count": 11,
     "metadata": {},
     "output_type": "execute_result"
    },
    {
     "data": {
      "image/png": "[encoded data removed]",
      "text/plain": [
       "<matplotlib.figure.Figure at 0x1050027d0>"
      ]
     },
     "metadata": {},
     "output_type": "display_data"
    }
   ],
   "source": [
    "xs_m, ys_m = slope_management(ap, remove_piston(ap,xs)[0] * ap, remove_piston(ap,ys)[0] * ap)\n",
    "f, (ax_x, ax_y) = plt.subplots(1, 2)\n",
    "ax_x.imshow(xs_m, cmap='hot')\n",
    "ax_y.imshow(ys_m, cmap='hot')"
   ]
  },
  {
   "cell_type": "code",
   "execution_count": 12,
   "metadata": {
    "collapsed": false
   },
   "outputs": [
    {
     "data": {
      "text/plain": [
       "<SlopeManagedFTR (20x20) filter='mod_hud' tt='suppressed'>"
      ]
     },
     "execution_count": 12,
     "metadata": {},
     "output_type": "execute_result"
    },
    {
     "data": {
      "image/png": "[encoded data removed]",
      "text/plain": [
       "<matplotlib.figure.Figure at 0x10586e0d0>"
      ]
     },
     "metadata": {},
     "output_type": "display_data"
    }
   ],
   "source": [
    "recon = SlopeManagedFTR(ap, filter='mod_hud', suppress_tt=True)\n",
    "phi_sm = recon(xs, ys)\n",
    "f, (ax_p, ax_r, ax_ar) = plt.subplots(1, 3)\n",
    "im = ax_p.imshow(phi_sm, cmap='hot')\n",
    "ax_p.set_title(r\"$\\hat{\\phi_{\\textrm{sm}}}$\")\n",
    "f.colorbar(im, ax=ax_p)\n",
    "im = ax_r.imshow(remove_tiptilt(ap, remove_piston(ap, phi_sm - phi)[0])[0] * ap, cmap='hot')\n",
    "ax_r.set_title(r\"$\\hat{\\phi_{\\textrm{sm}}} - \\hat{\\phi}$\")\n",
    "f.colorbar(im, ax=ax_r)\n",
    "\n",
    "im = ax_ar.imshow(remove_tiptilt(ap, remove_piston(ap, phi_sm - phi_ap)[0])[0] * ap, cmap='hot')\n",
    "ax_ar.set_title(r\"$\\hat{\\phi_{\\textrm{sm}}} - \\hat{\\phi_\\textrm{ap}}$\")\n",
    "f.colorbar(im, ax=ax_ar)\n",
    "\n",
    "recon"
   ]
  },
  {
   "cell_type": "code",
   "execution_count": null,
   "metadata": {
    "collapsed": true
   },
   "outputs": [],
   "source": []
  }
 ],
 "metadata": {
  "kernelspec": {
   "display_name": "Python 2",
   "language": "python",
   "name": "python2"
  },
  "language_info": {
   "codemirror_mode": {
    "name": "ipython",
    "version": 2
   },
   "file_extension": ".py",
   "mimetype": "text/x-python",
   "name": "python",
   "nbconvert_exporter": "python",
   "pygments_lexer": "ipython2",
   "version": "2.7.10"
  }
 },
 "nbformat": 4,
 "nbformat_minor": 0
}
