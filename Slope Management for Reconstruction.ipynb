{
 "cells": [
  {
   "cell_type": "markdown",
   "metadata": {},
   "source": [
    "# Slope Management\n",
    "\n",
    "Slope management is a technique to deal with an oddity between the fourier transform reconstructor and real telescope systesm. Simply, slope management provides slopes to the fourier transform which are compatible with the fourier transform assumption that all things which are fourier transformed are fully periodic."
   ]
  },
  {
   "cell_type": "markdown",
   "metadata": {},
   "source": [
    "## System Setup"
   ]
  },
  {
   "cell_type": "code",
   "execution_count": 34,
   "metadata": {
    "collapsed": true
   },
   "outputs": [],
   "source": [
    "import numpy as np\n",
    "%matplotlib inline\n",
    "import matplotlib.pyplot as plt"
   ]
  },
  {
   "cell_type": "code",
   "execution_count": 35,
   "metadata": {
    "collapsed": false
   },
   "outputs": [],
   "source": [
    "from FTR.utils import circle_aperture, remove_piston, remove_tiptilt"
   ]
  },
  {
   "cell_type": "code",
   "execution_count": 36,
   "metadata": {
    "collapsed": false
   },
   "outputs": [
    {
     "data": {
      "text/plain": [
       "<matplotlib.text.Text at 0x10a18d940>"
      ]
     },
     "execution_count": 36,
     "metadata": {},
     "output_type": "execute_result"
    },
    {
     "data": {
      "image/png": "[encoded data removed]",
      "text/plain": [
       "<matplotlib.figure.Figure at 0x109f5c518>"
      ]
     },
     "metadata": {},
     "output_type": "display_data"
    }
   ],
   "source": [
    "shape = (20, 20)\n",
    "r = 8\n",
    "ap = circle_aperture(shape, r)\n",
    "plt.imshow(ap, cmap='binary_r')\n",
    "plt.title(\"Aperture Mask\")"
   ]
  },
  {
   "cell_type": "code",
   "execution_count": 37,
   "metadata": {
    "collapsed": true
   },
   "outputs": [],
   "source": [
    "def remove_ttp(data):\n",
    "    pr, p = remove_piston(ap, data)\n",
    "    tr, tx, ty = remove_tiptilt(ap, pr)\n",
    "    return tr"
   ]
  },
  {
   "cell_type": "markdown",
   "metadata": {},
   "source": [
    "# Initial Slopes\n",
    "\n",
    "We'll reconstruct focus, because its simple x and y slopes"
   ]
  },
  {
   "cell_type": "code",
   "execution_count": 48,
   "metadata": {
    "collapsed": false
   },
   "outputs": [
    {
     "data": {
      "text/plain": [
       "<matplotlib.colorbar.Colorbar at 0x10a297dd8>"
      ]
     },
     "execution_count": 48,
     "metadata": {},
     "output_type": "execute_result"
    },
    {
     "data": {
      "image/png": "[encoded data removed]",
      "text/plain": [
       "<matplotlib.figure.Figure at 0x10aacab70>"
      ]
     },
     "metadata": {},
     "output_type": "display_data"
    }
   ],
   "source": [
    "xs = -np.sin(np.linspace(-10,20,20)[None,:]) * np.ones((20,1)) + 2 \n",
    "ys = (-np.cos(np.linspace(-10,20,20)[:,None]) * np.ones((1,20)) + 2)*0\n",
    "f, (ax_x, ax_y) = plt.subplots(1, 2)\n",
    "im = ax_x.imshow(xs * ap, cmap='hot')\n",
    "f.colorbar(im, ax=ax_x)\n",
    "im = ax_y.imshow(ys * ap, cmap='hot')\n",
    "f.colorbar(im, ax=ax_y)"
   ]
  },
  {
   "cell_type": "markdown",
   "metadata": {},
   "source": [
    "# Fourier Reconstruction\n",
    "\n",
    "The naieve Fourier Reconstruction on the unapertured, fully-periodic grid, works just fine"
   ]
  },
  {
   "cell_type": "code",
   "execution_count": 49,
   "metadata": {
    "collapsed": true
   },
   "outputs": [],
   "source": [
    "from FTR import FourierTransformReconstructor as FTRecon"
   ]
  },
  {
   "cell_type": "code",
   "execution_count": 50,
   "metadata": {
    "collapsed": true
   },
   "outputs": [],
   "source": [
    "recon = FTRecon(ap, filter='mod_hud', suppress_tt=True)"
   ]
  },
  {
   "cell_type": "code",
   "execution_count": 51,
   "metadata": {
    "collapsed": false
   },
   "outputs": [
    {
     "data": {
      "text/plain": [
       "<FourierTransformReconstructor (20x20) filter='mod_hud' tt='suppressed'>"
      ]
     },
     "execution_count": 51,
     "metadata": {},
     "output_type": "execute_result"
    },
    {
     "data": {
      "image/png": "[encoded data removed]",
      "text/plain": [
       "<matplotlib.figure.Figure at 0x10a338198>"
      ]
     },
     "metadata": {},
     "output_type": "display_data"
    }
   ],
   "source": [
    "phi = recon(xs, ys)\n",
    "plt.imshow(remove_ttp(phi) * ap, cmap='hot')\n",
    "plt.title(r\"$\\hat{\\phi}$\")\n",
    "plt.colorbar()\n",
    "recon"
   ]
  },
  {
   "cell_type": "markdown",
   "metadata": {},
   "source": [
    "## Apertured Reconstruction\n",
    "\n",
    "However, if we aperture the slopes before reconstruction, we get a significantly worse reconstruction, due to the zeros present outside the aperture."
   ]
  },
  {
   "cell_type": "code",
   "execution_count": 52,
   "metadata": {
    "collapsed": false
   },
   "outputs": [
    {
     "data": {
      "text/plain": [
       "<FourierTransformReconstructor (20x20) filter='mod_hud' tt='suppressed'>"
      ]
     },
     "execution_count": 52,
     "metadata": {},
     "output_type": "execute_result"
    },
    {
     "data": {
      "image/png": "[encoded data removed]",
      "text/plain": [
       "<matplotlib.figure.Figure at 0x109e3c438>"
      ]
     },
     "metadata": {},
     "output_type": "display_data"
    }
   ],
   "source": [
    "phi_ap = recon(xs * ap, ys * ap)\n",
    "f, (ax_p, ax_r) = plt.subplots(1, 2)\n",
    "im = ax_p.imshow(remove_ttp(phi_ap) * ap, cmap='hot')\n",
    "ax_p.set_title(r\"$\\hat{\\phi_{\\textrm{ap}}}$\")\n",
    "f.colorbar(im, ax=ax_p)\n",
    "phi_ap_fa = remove_tiptilt(ap, remove_piston(ap, phi_ap - phi)[0])[0] * ap\n",
    "dmax = np.max(np.abs(phi_ap_fa))\n",
    "im = ax_r.imshow(phi_ap_fa, cmap='bwr', vmin=-dmax, vmax=dmax)\n",
    "ax_r.set_title(r\"$\\hat{\\phi_{\\textrm{ap}}} - \\hat{\\phi}$\")\n",
    "f.colorbar(im, ax=ax_r)\n",
    "recon"
   ]
  },
  {
   "cell_type": "markdown",
   "metadata": {},
   "source": [
    "## Slope Management\n",
    "\n",
    "Slope management avoids the non-periodic nature of apertured slopes by using the points outside the aperture to create fake slopes which obey the peridoicity relation."
   ]
  },
  {
   "cell_type": "code",
   "execution_count": 53,
   "metadata": {
    "collapsed": true
   },
   "outputs": [],
   "source": [
    "from FTR.slopemanage import slope_management, SlopeManagedFTR"
   ]
  },
  {
   "cell_type": "code",
   "execution_count": 54,
   "metadata": {
    "collapsed": false
   },
   "outputs": [
    {
     "data": {
      "text/plain": [
       "<matplotlib.image.AxesImage at 0x109f637f0>"
      ]
     },
     "execution_count": 54,
     "metadata": {},
     "output_type": "execute_result"
    },
    {
     "data": {
      "image/png": "[encoded data removed]",
      "text/plain": [
       "<matplotlib.figure.Figure at 0x10a326da0>"
      ]
     },
     "metadata": {},
     "output_type": "display_data"
    }
   ],
   "source": [
    "xs_m, ys_m = slope_management(ap, remove_piston(ap,xs)[0] * ap, remove_piston(ap,ys)[0] * ap)\n",
    "f, (ax_x, ax_y) = plt.subplots(1, 2)\n",
    "ax_x.imshow(xs_m, cmap='hot')\n",
    "ax_y.imshow(ys_m, cmap='hot')"
   ]
  },
  {
   "cell_type": "code",
   "execution_count": 55,
   "metadata": {
    "collapsed": false
   },
   "outputs": [
    {
     "data": {
      "text/plain": [
       "<SlopeManagedFTR (20x20) filter='mod_hud' tt='suppressed'>"
      ]
     },
     "execution_count": 55,
     "metadata": {},
     "output_type": "execute_result"
    },
    {
     "data": {
      "image/png": "[encoded data removed]",
      "text/plain": [
       "<matplotlib.figure.Figure at 0x10a27ddd8>"
      ]
     },
     "metadata": {},
     "output_type": "display_data"
    }
   ],
   "source": [
    "recon = SlopeManagedFTR(ap, filter='mod_hud', suppress_tt=True)\n",
    "phi_sm = recon(xs, ys)\n",
    "f, (ax_p, ax_r, ax_ar, ax_fr) = plt.subplots(1, 4)\n",
    "im = ax_p.imshow(phi_sm, cmap='hot')\n",
    "ax_p.set_title(r\"$\\hat{\\phi_{\\textrm{sm}}}$\")\n",
    "f.colorbar(im, ax=ax_p)\n",
    "\n",
    "phi_sm_fa = remove_tiptilt(ap, remove_piston(ap, phi_sm - phi)[0])[0] * ap\n",
    "phi_sm_ap = remove_tiptilt(ap, remove_piston(ap, phi_sm - phi_ap)[0])[0] * ap\n",
    "dmax = np.max(np.abs([phi_sm_fa, phi_sm_ap, phi_ap_fa]))\n",
    "\n",
    "im = ax_r.imshow(phi_sm_fa, cmap='bwr', vmin=-dmax, vmax=dmax)\n",
    "ax_r.set_title(r\"$\\hat{\\phi_{\\textrm{sm}}} - \\hat{\\phi}$\")\n",
    "\n",
    "im = ax_ar.imshow(phi_sm_ap, cmap='bwr', vmin=-dmax, vmax=dmax)\n",
    "ax_ar.set_title(r\"$\\hat{\\phi_{\\textrm{sm}}} - \\hat{\\phi_\\textrm{ap}}$\")\n",
    "\n",
    "im = ax_fr.imshow(phi_ap_fa, cmap='bwr', vmin=-dmax, vmax=dmax)\n",
    "ax_fr.set_title(r\"$\\hat{\\phi_{\\textrm{ap}}} - \\hat{\\phi}$\")\n",
    "f.colorbar(im, ax=ax_fr)\n",
    "\n",
    "\n",
    "recon"
   ]
  },
  {
   "cell_type": "code",
   "execution_count": null,
   "metadata": {
    "collapsed": true
   },
   "outputs": [],
   "source": []
  }
 ],
 "metadata": {
  "kernelspec": {
   "display_name": "Python 3",
   "language": "python",
   "name": "python3"
  },
  "language_info": {
   "codemirror_mode": {
    "name": "ipython",
    "version": 3
   },
   "file_extension": ".py",
   "mimetype": "text/x-python",
   "name": "python",
   "nbconvert_exporter": "python",
   "pygments_lexer": "ipython3",
   "version": "3.4.3"
  }
 },
 "nbformat": 4,
 "nbformat_minor": 0
}
