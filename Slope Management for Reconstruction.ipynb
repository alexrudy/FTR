{
 "cells": [
  {
   "cell_type": "markdown",
   "metadata": {},
   "source": [
    "# Slope Management\n",
    "\n",
    "Slope management is a technique to deal with an oddity between the fourier transform reconstructor and real telescope systesm. Simply, slope management provides slopes to the fourier transform which are compatible with the fourier transform assumption that all things which are fourier transformed are fully periodic."
   ]
  },
  {
   "cell_type": "markdown",
   "metadata": {},
   "source": [
    "## System Setup"
   ]
  },
  {
   "cell_type": "code",
   "execution_count": 2,
   "metadata": {
    "collapsed": true
   },
   "outputs": [],
   "source": [
    "import numpy as np\n",
    "%matplotlib inline\n",
    "import matplotlib.pyplot as plt"
   ]
  },
  {
   "cell_type": "code",
   "execution_count": 3,
   "metadata": {
    "collapsed": false
   },
   "outputs": [],
   "source": [
    "from FTR.utils import circle_aperture, remove_piston, remove_tiptilt"
   ]
  },
  {
   "cell_type": "code",
   "execution_count": 4,
   "metadata": {
    "collapsed": false
   },
   "outputs": [
    {
     "data": {
      "text/plain": [
       "<matplotlib.text.Text at 0x10ef600f0>"
      ]
     },
     "execution_count": 4,
     "metadata": {},
     "output_type": "execute_result"
    },
    {
     "data": {
      "image/png": "[encoded data removed]",
      "text/plain": [
       "<matplotlib.figure.Figure at 0x10ec9c710>"
      ]
     },
     "metadata": {},
     "output_type": "display_data"
    }
   ],
   "source": [
    "shape = (20, 20)\n",
    "r = 8\n",
    "ap = circle_aperture(shape, r)\n",
    "plt.imshow(ap, cmap='binary_r')\n",
    "plt.title(\"Aperture Mask\")"
   ]
  },
  {
   "cell_type": "code",
   "execution_count": 5,
   "metadata": {
    "collapsed": true
   },
   "outputs": [],
   "source": [
    "def remove_ttp(data):\n",
    "    pr, p = remove_piston(ap, data)\n",
    "    tr, tx, ty = remove_tiptilt(ap, pr)\n",
    "    return tr"
   ]
  },
  {
   "cell_type": "markdown",
   "metadata": {},
   "source": [
    "# Initial Slopes\n",
    "\n",
    "We'll reconstruct focus, because its simple x and y slopes"
   ]
  },
  {
   "cell_type": "code",
   "execution_count": 6,
   "metadata": {
    "collapsed": false
   },
   "outputs": [
    {
     "data": {
      "text/plain": [
       "<matplotlib.colorbar.Colorbar at 0x10f123208>"
      ]
     },
     "execution_count": 6,
     "metadata": {},
     "output_type": "execute_result"
    },
    {
     "data": {
      "image/png": "[encoded data removed]",
      "text/plain": [
       "<matplotlib.figure.Figure at 0x10ef53f28>"
      ]
     },
     "metadata": {},
     "output_type": "display_data"
    }
   ],
   "source": [
    "xs = -np.sin(np.linspace(-10,20,20)[None,:]) * np.ones((20,1)) + 2 \n",
    "ys = (-np.cos(4*np.linspace(-10,20,20)[:,None]) * np.ones((1,20)) + 2)\n",
    "f, (ax_x, ax_y) = plt.subplots(1, 2, figsize=(10,5))\n",
    "im = ax_x.imshow(xs, cmap='hot')\n",
    "ax_x.set_title(\"$S_x$\")\n",
    "f.colorbar(im, ax=ax_x)\n",
    "im = ax_y.imshow(ys, cmap='hot')\n",
    "ax_y.set_title(\"$S_y$\")\n",
    "f.colorbar(im, ax=ax_y)"
   ]
  },
  {
   "cell_type": "markdown",
   "metadata": {},
   "source": [
    "# Fourier Reconstruction\n",
    "\n",
    "The naieve Fourier Reconstruction on the unapertured, fully-periodic grid, works just fine"
   ]
  },
  {
   "cell_type": "code",
   "execution_count": 7,
   "metadata": {
    "collapsed": true
   },
   "outputs": [],
   "source": [
    "from FTR import FourierTransformReconstructor as FTRecon"
   ]
  },
  {
   "cell_type": "code",
   "execution_count": 8,
   "metadata": {
    "collapsed": true
   },
   "outputs": [],
   "source": [
    "recon = FTRecon(np.ones_like(ap), filter='mod_hud', suppress_tt=True)"
   ]
  },
  {
   "cell_type": "code",
   "execution_count": 9,
   "metadata": {
    "collapsed": false
   },
   "outputs": [
    {
     "data": {
      "text/plain": [
       "<FourierTransformReconstructor (20x20) filter='mod_hud' tt='suppressed'>"
      ]
     },
     "execution_count": 9,
     "metadata": {},
     "output_type": "execute_result"
    },
    {
     "data": {
      "image/png": "[encoded data removed]",
      "text/plain": [
       "<matplotlib.figure.Figure at 0x10ef40048>"
      ]
     },
     "metadata": {},
     "output_type": "display_data"
    }
   ],
   "source": [
    "phi = recon(xs, ys)\n",
    "plt.imshow(phi, cmap='hot')\n",
    "plt.title(r\"$\\hat{\\phi}$\")\n",
    "plt.colorbar()\n",
    "recon"
   ]
  },
  {
   "cell_type": "markdown",
   "metadata": {},
   "source": [
    "## Apertured Reconstruction\n",
    "\n",
    "However, if we aperture the slopes before reconstruction, we get a significantly worse reconstruction, due to the zeros present outside the aperture."
   ]
  },
  {
   "cell_type": "code",
   "execution_count": 14,
   "metadata": {
    "collapsed": false
   },
   "outputs": [
    {
     "data": {
      "text/plain": [
       "<FourierTransformReconstructor (20x20) filter='mod_hud' tt='suppressed'>"
      ]
     },
     "execution_count": 14,
     "metadata": {},
     "output_type": "execute_result"
    },
    {
     "data": {
      "image/png": "[encoded data removed]",
      "text/plain": [
       "<matplotlib.figure.Figure at 0x10f3099e8>"
      ]
     },
     "metadata": {},
     "output_type": "display_data"
    }
   ],
   "source": [
    "recon = FTRecon(ap, filter='mod_hud', suppress_tt=True)\n",
    "phi_ap = recon(xs * ap, ys * ap)\n",
    "f, (ax_p, ax_r) = plt.subplots(1, 2, figsize=(10,5))\n",
    "im = ax_p.imshow(remove_ttp(phi_ap) * ap, cmap='hot')\n",
    "ax_p.set_title(r\"$\\hat{\\phi_{\\textrm{ap}}}$\")\n",
    "f.colorbar(im, ax=ax_p)\n",
    "phi_ap_fa = remove_tiptilt(ap, remove_piston(ap, phi_ap - phi)[0])[0] * ap\n",
    "dmax = np.max(np.abs(phi_ap_fa))\n",
    "im = ax_r.imshow(phi_ap_fa, cmap='bwr', vmin=-dmax, vmax=dmax)\n",
    "ax_r.set_title(r\"$\\hat{\\phi_{\\textrm{ap}}} - \\hat{\\phi}$\")\n",
    "f.colorbar(im, ax=ax_r)\n",
    "recon"
   ]
  },
  {
   "cell_type": "markdown",
   "metadata": {},
   "source": [
    "## Slope Management\n",
    "\n",
    "Slope management avoids the non-periodic nature of apertured slopes by using the points outside the aperture to create fake slopes which obey the peridoicity relation."
   ]
  },
  {
   "cell_type": "code",
   "execution_count": 15,
   "metadata": {
    "collapsed": true
   },
   "outputs": [],
   "source": [
    "from FTR.slopemanage import slope_management, SlopeManagedFTR"
   ]
  },
  {
   "cell_type": "code",
   "execution_count": 16,
   "metadata": {
    "collapsed": false
   },
   "outputs": [
    {
     "data": {
      "text/plain": [
       "<matplotlib.text.Text at 0x10f2a67b8>"
      ]
     },
     "execution_count": 16,
     "metadata": {},
     "output_type": "execute_result"
    },
    {
     "data": {
      "image/png": "[encoded data removed]",
      "text/plain": [
       "<matplotlib.figure.Figure at 0x10f5c2828>"
      ]
     },
     "metadata": {},
     "output_type": "display_data"
    }
   ],
   "source": [
    "ys_m, xs_m = slope_management(ap, remove_piston(ap,ys)[0] * ap, remove_piston(ap,xs)[0] * ap)\n",
    "f, (ax_x, ax_y) = plt.subplots(1, 2)\n",
    "ax_x.imshow(xs_m, cmap='hot')\n",
    "ax_x.set_title(\"$S_x$\")\n",
    "ax_y.imshow(ys_m, cmap='hot')\n",
    "ax_y.set_title(\"$S_y$\")"
   ]
  },
  {
   "cell_type": "code",
   "execution_count": 17,
   "metadata": {
    "collapsed": false
   },
   "outputs": [
    {
     "data": {
      "text/plain": [
       "<SlopeManagedFTR (20x20) filter='mod_hud' tt='suppressed'>"
      ]
     },
     "execution_count": 17,
     "metadata": {},
     "output_type": "execute_result"
    },
    {
     "data": {
      "image/png": "[encoded data removed]",
      "text/plain": [
       "<matplotlib.figure.Figure at 0x10f480ac8>"
      ]
     },
     "metadata": {},
     "output_type": "display_data"
    }
   ],
   "source": [
    "recon = SlopeManagedFTR(ap, filter='mod_hud', suppress_tt=True)\n",
    "phi_sm = recon(xs, ys)\n",
    "f, (ax_p, ax_r, ax_ar, ax_fr) = plt.subplots(1, 4, figsize=(20,5))\n",
    "im = ax_p.imshow(phi_sm * ap, cmap='hot')\n",
    "ax_p.set_title(r\"$\\hat{\\phi_{\\textrm{sm}}}$\")\n",
    "f.colorbar(im, ax=ax_p)\n",
    "\n",
    "phi_sm_fa = remove_tiptilt(ap, remove_piston(ap, phi_sm - phi)[0])[0] * ap\n",
    "phi_sm_ap = remove_tiptilt(ap, remove_piston(ap, phi_sm - phi_ap)[0])[0] * ap\n",
    "dmax = np.max(np.abs([phi_sm_fa, phi_sm_ap, phi_ap_fa]))\n",
    "\n",
    "im = ax_r.imshow(phi_sm_fa, cmap='bwr', vmin=-dmax, vmax=dmax)\n",
    "ax_r.set_title(r\"$\\hat{\\phi_{\\textrm{sm}}} - \\hat{\\phi}$\")\n",
    "\n",
    "im = ax_ar.imshow(phi_sm_ap, cmap='bwr', vmin=-dmax, vmax=dmax)\n",
    "ax_ar.set_title(r\"$\\hat{\\phi_{\\textrm{sm}}} - \\hat{\\phi_\\textrm{ap}}$\")\n",
    "\n",
    "im = ax_fr.imshow(phi_ap_fa, cmap='bwr', vmin=-dmax, vmax=dmax)\n",
    "ax_fr.set_title(r\"$\\hat{\\phi_{\\textrm{ap}}} - \\hat{\\phi}$\")\n",
    "f.colorbar(im, ax=[ax_r, ax_ar, ax_fr])\n",
    "\n",
    "\n",
    "recon"
   ]
  },
  {
   "cell_type": "code",
   "execution_count": 18,
   "metadata": {
    "collapsed": false
   },
   "outputs": [
    {
     "name": "stdout",
     "output_type": "stream",
     "text": [
      "SM RMS: 0.15673675698016648\n",
      "AP RMS: 0.17766622166992926\n"
     ]
    }
   ],
   "source": [
    "print(\"SM RMS: {}\".format(np.std(phi_sm_fa)))\n",
    "print(\"AP RMS: {}\".format(np.std(phi_ap_fa)))"
   ]
  },
  {
   "cell_type": "code",
   "execution_count": null,
   "metadata": {
    "collapsed": true
   },
   "outputs": [],
   "source": []
  }
 ],
 "metadata": {
  "kernelspec": {
   "display_name": "Python 3",
   "language": "python",
   "name": "python3"
  },
  "language_info": {
   "codemirror_mode": {
    "name": "ipython",
    "version": 3
   },
   "file_extension": ".py",
   "mimetype": "text/x-python",
   "name": "python",
   "nbconvert_exporter": "python",
   "pygments_lexer": "ipython3",
   "version": "3.4.3"
  }
 },
 "nbformat": 4,
 "nbformat_minor": 0
}
